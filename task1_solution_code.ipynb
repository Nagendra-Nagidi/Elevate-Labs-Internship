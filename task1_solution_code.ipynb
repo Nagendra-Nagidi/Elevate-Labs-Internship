{
 "cells": [
  {
   "cell_type": "markdown",
   "id": "f6e6ec4a",
   "metadata": {},
   "source": [
    "## TASK 1 : Data cleaning & preprocessing\n",
    "\n"
   ]
  },
  {
   "cell_type": "markdown",
   "id": "33ab4426",
   "metadata": {},
   "source": [
    "#### 1. Importing the dataset and exploring basic info"
   ]
  },
  {
   "cell_type": "code",
   "execution_count": 300,
   "id": "86f98fb8",
   "metadata": {},
   "outputs": [],
   "source": [
    "#importing necessary libraries\n",
    "import pandas as pd\n",
    "import numpy as np\n",
    "import matplotlib.pyplot as plt\n",
    "import seaborn as sns\n"
   ]
  },
  {
   "cell_type": "code",
   "execution_count": 301,
   "id": "20c55c04",
   "metadata": {},
   "outputs": [
    {
     "data": {
      "text/html": [
       "<div>\n",
       "<style scoped>\n",
       "    .dataframe tbody tr th:only-of-type {\n",
       "        vertical-align: middle;\n",
       "    }\n",
       "\n",
       "    .dataframe tbody tr th {\n",
       "        vertical-align: top;\n",
       "    }\n",
       "\n",
       "    .dataframe thead th {\n",
       "        text-align: right;\n",
       "    }\n",
       "</style>\n",
       "<table border=\"1\" class=\"dataframe\">\n",
       "  <thead>\n",
       "    <tr style=\"text-align: right;\">\n",
       "      <th></th>\n",
       "      <th>PassengerId</th>\n",
       "      <th>Survived</th>\n",
       "      <th>Pclass</th>\n",
       "      <th>Name</th>\n",
       "      <th>Sex</th>\n",
       "      <th>Age</th>\n",
       "      <th>SibSp</th>\n",
       "      <th>Parch</th>\n",
       "      <th>Ticket</th>\n",
       "      <th>Fare</th>\n",
       "      <th>Cabin</th>\n",
       "      <th>Embarked</th>\n",
       "    </tr>\n",
       "  </thead>\n",
       "  <tbody>\n",
       "    <tr>\n",
       "      <th>0</th>\n",
       "      <td>1</td>\n",
       "      <td>0</td>\n",
       "      <td>3</td>\n",
       "      <td>Braund, Mr. Owen Harris</td>\n",
       "      <td>male</td>\n",
       "      <td>22.0</td>\n",
       "      <td>1</td>\n",
       "      <td>0</td>\n",
       "      <td>A/5 21171</td>\n",
       "      <td>7.2500</td>\n",
       "      <td>NaN</td>\n",
       "      <td>S</td>\n",
       "    </tr>\n",
       "    <tr>\n",
       "      <th>1</th>\n",
       "      <td>2</td>\n",
       "      <td>1</td>\n",
       "      <td>1</td>\n",
       "      <td>Cumings, Mrs. John Bradley (Florence Briggs Th...</td>\n",
       "      <td>female</td>\n",
       "      <td>38.0</td>\n",
       "      <td>1</td>\n",
       "      <td>0</td>\n",
       "      <td>PC 17599</td>\n",
       "      <td>71.2833</td>\n",
       "      <td>C85</td>\n",
       "      <td>C</td>\n",
       "    </tr>\n",
       "    <tr>\n",
       "      <th>2</th>\n",
       "      <td>3</td>\n",
       "      <td>1</td>\n",
       "      <td>3</td>\n",
       "      <td>Heikkinen, Miss. Laina</td>\n",
       "      <td>female</td>\n",
       "      <td>26.0</td>\n",
       "      <td>0</td>\n",
       "      <td>0</td>\n",
       "      <td>STON/O2. 3101282</td>\n",
       "      <td>7.9250</td>\n",
       "      <td>NaN</td>\n",
       "      <td>S</td>\n",
       "    </tr>\n",
       "    <tr>\n",
       "      <th>3</th>\n",
       "      <td>4</td>\n",
       "      <td>1</td>\n",
       "      <td>1</td>\n",
       "      <td>Futrelle, Mrs. Jacques Heath (Lily May Peel)</td>\n",
       "      <td>female</td>\n",
       "      <td>35.0</td>\n",
       "      <td>1</td>\n",
       "      <td>0</td>\n",
       "      <td>113803</td>\n",
       "      <td>53.1000</td>\n",
       "      <td>C123</td>\n",
       "      <td>S</td>\n",
       "    </tr>\n",
       "    <tr>\n",
       "      <th>4</th>\n",
       "      <td>5</td>\n",
       "      <td>0</td>\n",
       "      <td>3</td>\n",
       "      <td>Allen, Mr. William Henry</td>\n",
       "      <td>male</td>\n",
       "      <td>35.0</td>\n",
       "      <td>0</td>\n",
       "      <td>0</td>\n",
       "      <td>373450</td>\n",
       "      <td>8.0500</td>\n",
       "      <td>NaN</td>\n",
       "      <td>S</td>\n",
       "    </tr>\n",
       "  </tbody>\n",
       "</table>\n",
       "</div>"
      ],
      "text/plain": [
       "   PassengerId  Survived  Pclass  \\\n",
       "0            1         0       3   \n",
       "1            2         1       1   \n",
       "2            3         1       3   \n",
       "3            4         1       1   \n",
       "4            5         0       3   \n",
       "\n",
       "                                                Name     Sex   Age  SibSp  \\\n",
       "0                            Braund, Mr. Owen Harris    male  22.0      1   \n",
       "1  Cumings, Mrs. John Bradley (Florence Briggs Th...  female  38.0      1   \n",
       "2                             Heikkinen, Miss. Laina  female  26.0      0   \n",
       "3       Futrelle, Mrs. Jacques Heath (Lily May Peel)  female  35.0      1   \n",
       "4                           Allen, Mr. William Henry    male  35.0      0   \n",
       "\n",
       "   Parch            Ticket     Fare Cabin Embarked  \n",
       "0      0         A/5 21171   7.2500   NaN        S  \n",
       "1      0          PC 17599  71.2833   C85        C  \n",
       "2      0  STON/O2. 3101282   7.9250   NaN        S  \n",
       "3      0            113803  53.1000  C123        S  \n",
       "4      0            373450   8.0500   NaN        S  "
      ]
     },
     "execution_count": 301,
     "metadata": {},
     "output_type": "execute_result"
    }
   ],
   "source": [
    "#importing the dataset and checking the dataset\n",
    "df=pd.read_csv('Titanic-Dataset.csv')\n",
    "df.head()"
   ]
  },
  {
   "cell_type": "code",
   "execution_count": 302,
   "id": "015244c3",
   "metadata": {},
   "outputs": [
    {
     "name": "stdout",
     "output_type": "stream",
     "text": [
      "Shape of dataset:(891, 12)\n",
      "\n",
      "Data types of each column:\n",
      "PassengerId      int64\n",
      "Survived         int64\n",
      "Pclass           int64\n",
      "Name            object\n",
      "Sex             object\n",
      "Age            float64\n",
      "SibSp            int64\n",
      "Parch            int64\n",
      "Ticket          object\n",
      "Fare           float64\n",
      "Cabin           object\n",
      "Embarked        object\n",
      "dtype: object\n",
      "\n",
      "Number of missing values in each column:\n",
      "PassengerId      0\n",
      "Survived         0\n",
      "Pclass           0\n",
      "Name             0\n",
      "Sex              0\n",
      "Age            177\n",
      "SibSp            0\n",
      "Parch            0\n",
      "Ticket           0\n",
      "Fare             0\n",
      "Cabin          687\n",
      "Embarked         2\n",
      "dtype: int64\n"
     ]
    }
   ],
   "source": [
    "#Exploring the dataset basic information\n",
    "print(f'Shape of dataset:{df.shape}')\n",
    "\n",
    "print(\"\\nData types of each column:\")\n",
    "print(df.dtypes)\n",
    "\n",
    "print(\"\\nNumber of missing values in each column:\")\n",
    "print(df.isnull().sum())"
   ]
  },
  {
   "cell_type": "markdown",
   "id": "a8accd12",
   "metadata": {},
   "source": [
    "#### 2. Handling Missing Values"
   ]
  },
  {
   "cell_type": "code",
   "execution_count": 303,
   "id": "2e9dbe54",
   "metadata": {},
   "outputs": [
    {
     "name": "stdout",
     "output_type": "stream",
     "text": [
      "Columns with missing values and their data types:\n",
      "Column: Age, Data Type: float64\n",
      "Column: Cabin, Data Type: object\n",
      "Column: Embarked, Data Type: object\n"
     ]
    }
   ],
   "source": [
    "print(\"Columns with missing values and their data types:\")\n",
    "\n",
    "missing_columns = df.columns[df.isnull().any()]\n",
    "for col in missing_columns:\n",
    "    print(f\"Column: {col}, Data Type: {df[col].dtype}\")"
   ]
  },
  {
   "cell_type": "code",
   "execution_count": 304,
   "id": "c63ec939",
   "metadata": {},
   "outputs": [],
   "source": [
    "# Fill missing values in 'Age' column with the median age\n",
    "df['Age']=df['Age'].fillna(df['Age'].median())\n",
    "# Fill missing values in 'Embarked' column with the mode\n",
    "df['Embarked']=df['Embarked'].fillna(df['Embarked'].mode()[0]) \n",
    "#handling missing values in 'Cabin' ccolumn by imputing 'Unknown'\n",
    "df['Cabin'] = df['Cabin'].fillna('Unknown')\n"
   ]
  },
  {
   "cell_type": "code",
   "execution_count": 305,
   "id": "0ce2ddee",
   "metadata": {},
   "outputs": [
    {
     "data": {
      "text/plain": [
       "PassengerId    0\n",
       "Survived       0\n",
       "Pclass         0\n",
       "Name           0\n",
       "Sex            0\n",
       "Age            0\n",
       "SibSp          0\n",
       "Parch          0\n",
       "Ticket         0\n",
       "Fare           0\n",
       "Cabin          0\n",
       "Embarked       0\n",
       "dtype: int64"
      ]
     },
     "execution_count": 305,
     "metadata": {},
     "output_type": "execute_result"
    }
   ],
   "source": [
    "df.isna().sum()  "
   ]
  },
  {
   "cell_type": "markdown",
   "id": "da929a7b",
   "metadata": {},
   "source": [
    "#### 3.Encoding the dataset"
   ]
  },
  {
   "cell_type": "code",
   "execution_count": 306,
   "id": "1e726ef6",
   "metadata": {},
   "outputs": [
    {
     "name": "stdout",
     "output_type": "stream",
     "text": [
      "Name        object\n",
      "Sex         object\n",
      "Ticket      object\n",
      "Cabin       object\n",
      "Embarked    object\n",
      "dtype: object\n"
     ]
    }
   ],
   "source": [
    "#checking and printing the categorical columns with their data types\n",
    "cat_col= df.select_dtypes(include=['object']).columns\n",
    "print(df[cat_col].dtypes)"
   ]
  },
  {
   "cell_type": "code",
   "execution_count": 307,
   "id": "dca9c53d",
   "metadata": {},
   "outputs": [],
   "source": [
    "#encoding categorical columns into numericals \n",
    "from sklearn.preprocessing import LabelEncoder\n",
    "\n"
   ]
  },
  {
   "cell_type": "code",
   "execution_count": 308,
   "id": "600f4209",
   "metadata": {},
   "outputs": [],
   "source": [
    "#using label encoding for Sex column\n",
    "le=LabelEncoder()\n",
    "df['Sex']=le.fit_transform(df['Sex'])\n"
   ]
  },
  {
   "cell_type": "code",
   "execution_count": 309,
   "id": "ca7a7392",
   "metadata": {},
   "outputs": [],
   "source": [
    "# using one-hot encoding for Embarked column\n",
    "df=pd.get_dummies(df, columns=[\"Embarked\"], prefix=\"Embarked\", dtype=int)"
   ]
  },
  {
   "cell_type": "code",
   "execution_count": 310,
   "id": "4e4a4382",
   "metadata": {},
   "outputs": [
    {
     "name": "stdout",
     "output_type": "stream",
     "text": [
      "Name      object\n",
      "Ticket    object\n",
      "Cabin     object\n",
      "dtype: object\n"
     ]
    }
   ],
   "source": [
    "#checking and printing the categorical columns with their data types after encoding\n",
    "cat_col= df.select_dtypes(include=['object']).columns\n",
    "print(df[cat_col].dtypes)\n",
    "# NOTE: since 'names','ticket'and 'cabin' columns are not useful for analysis and contain many unique values, we can drop them"
   ]
  },
  {
   "cell_type": "markdown",
   "id": "1066987f",
   "metadata": {},
   "source": [
    "#### 4.Normalizing/Standardizing the numerical features"
   ]
  },
  {
   "cell_type": "code",
   "execution_count": 311,
   "id": "0bedeeb4",
   "metadata": {},
   "outputs": [
    {
     "name": "stdout",
     "output_type": "stream",
     "text": [
      "   Pclass   Age  SibSp  Parch     Fare\n",
      "0       3  22.0      1      0   7.2500\n",
      "1       1  38.0      1      0  71.2833\n",
      "2       3  26.0      0      0   7.9250\n",
      "3       1  35.0      1      0  53.1000\n",
      "4       3  35.0      0      0   8.0500\n"
     ]
    }
   ],
   "source": [
    "# Selecting numerical columns for scaling\n",
    "num_cols = df.select_dtypes(include=['int64', 'float64']).columns\n",
    "num_cols = num_cols.drop(['PassengerId', 'Survived']) \n",
    "#checking the numerical columns\n",
    "print(df[num_cols].head())\n"
   ]
  },
  {
   "cell_type": "code",
   "execution_count": 312,
   "id": "8148d7f9",
   "metadata": {},
   "outputs": [
    {
     "name": "stdout",
     "output_type": "stream",
     "text": [
      "     Pclass       Age     SibSp     Parch      Fare\n",
      "0  0.827377 -0.565736  0.432793 -0.473674 -0.502445\n",
      "1 -1.566107  0.663861  0.432793 -0.473674  0.786845\n",
      "2  0.827377 -0.258337 -0.474545 -0.473674 -0.488854\n",
      "3 -1.566107  0.433312  0.432793 -0.473674  0.420730\n",
      "4  0.827377  0.433312 -0.474545 -0.473674 -0.486337\n"
     ]
    }
   ],
   "source": [
    "#Normalissing/standardizing the numerical columns\n",
    "from sklearn.preprocessing import StandardScaler\n",
    "scaler = StandardScaler()\n",
    "df[num_cols] = scaler.fit_transform(df[num_cols])\n",
    "#checking the numerical columns after scaling\n",
    "print(df[num_cols].head())"
   ]
  },
  {
   "cell_type": "markdown",
   "id": "56ad5072",
   "metadata": {},
   "source": [
    "#### 5.Visualizing outliers using boxplot and removing"
   ]
  },
  {
   "cell_type": "code",
   "execution_count": 313,
   "id": "23fda707",
   "metadata": {},
   "outputs": [
    {
     "data": {
      "image/png": "[encoded data removed]",
      "text/plain": [
       "<Figure size 1200x600 with 1 Axes>"
      ]
     },
     "metadata": {},
     "output_type": "display_data"
    }
   ],
   "source": [
    "# Plot boxplots\n",
    "plt.figure(figsize=(12, 6))\n",
    "sns.boxplot(data=df[num_cols], orient=\"h\", palette=\"Set2\")\n",
    "plt.title(\"Boxplot of Numerical Columns (Before Outlier Removal)\")\n",
    "plt.show()"
   ]
  },
  {
   "cell_type": "code",
   "execution_count": 314,
   "id": "bc5e83be",
   "metadata": {},
   "outputs": [],
   "source": [
    "#removing outliers using interquartile method\n",
    "def remove_outliers(df, column):\n",
    "    Q1 = df[column].quantile(0.25)\n",
    "    Q3 = df[column].quantile(0.75)\n",
    "    IQR = Q3 - Q1\n",
    "    lower_bound = Q1 - 1.5 * IQR\n",
    "    upper_bound = Q3 + 1.5 * IQR\n",
    "    # Filter rows without outliers\n",
    "    return df[(df[column] >= lower_bound) & (df[column] <= upper_bound)]\n",
    "# Removing outliers for each numerical column\n",
    "for col in num_cols:\n",
    "    df = remove_outliers(df, col)\n",
    "\n"
   ]
  },
  {
   "cell_type": "code",
   "execution_count": 315,
   "id": "e2403091",
   "metadata": {},
   "outputs": [
    {
     "data": {
      "image/png": "[encoded data removed]",
      "text/plain": [
       "<Figure size 1200x600 with 1 Axes>"
      ]
     },
     "metadata": {},
     "output_type": "display_data"
    }
   ],
   "source": [
    "# Plot boxplots after outlier removal\n",
    "plt.figure(figsize=(12, 6))\n",
    "sns.boxplot(data=df[num_cols], orient=\"h\", palette=\"Set2\")\n",
    "plt.title(\"Boxplot of Numerical Columns (After Outlier Removal)\")\n",
    "plt.show()"
   ]
  },
  {
   "cell_type": "code",
   "execution_count": 318,
   "id": "6b3cab9a",
   "metadata": {},
   "outputs": [
    {
     "data": {
      "text/plain": [
       "(561, 14)"
      ]
     },
     "execution_count": 318,
     "metadata": {},
     "output_type": "execute_result"
    }
   ],
   "source": [
    "df.shape"
   ]
  },
  {
   "cell_type": "code",
   "execution_count": 319,
   "id": "6eb6a377",
   "metadata": {},
   "outputs": [],
   "source": [
    "#exporting the cleaned dataset to a new CSV file\n",
    "df.to_csv('Cleaned_Titanic_Dataset.csv', index=False)"
   ]
  },
  {
   "cell_type": "code",
   "execution_count": null,
   "id": "658ca1a0",
   "metadata": {},
   "outputs": [],
   "source": []
  }
 ],
 "metadata": {
  "kernelspec": {
   "display_name": "Python 3",
   "language": "python",
   "name": "python3"
  },
  "language_info": {
   "codemirror_mode": {
    "name": "ipython",
    "version": 3
   },
   "file_extension": ".py",
   "mimetype": "text/x-python",
   "name": "python",
   "nbconvert_exporter": "python",
   "pygments_lexer": "ipython3",
   "version": "3.10.11"
  }
 },
 "nbformat": 4,
 "nbformat_minor": 5
}
